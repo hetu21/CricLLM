{
 "cells": [
  {
   "cell_type": "code",
   "execution_count": 119,
   "metadata": {},
   "outputs": [],
   "source": [
    "from sqlalchemy import create_engine\n",
    "\n",
    "# Your ODBC connection string\n",
    "odbc_str = 'DRIVER={ODBC Driver 18 for SQL Server};SERVER=DESKTOP-HM7LQLF\\\\VAIBHAVSERVER;DATABASE=cricllm;Trusted_Connection=yes;TrustServerCertificate=yes;'\n",
    "\n",
    "# Create SQLAlchemy engine\n",
    "db_engine = create_engine(f'mssql+pyodbc:///?odbc_connect={odbc_str}')\n"
   ]
  },
  {
   "cell_type": "code",
   "execution_count": 104,
   "metadata": {},
   "outputs": [],
   "source": [
    "import os\n",
    "from dotenv import load_dotenv\n",
    "\n",
    "os.environ[\"OPENAI_API_TYPE\"]=\"azure\"\n",
    "os.environ[\"OPENAI_API_VERSION\"]=\"2023-07-01-preview\"\n",
    "os.environ[\"OPENAI_API_BASE\"]=\"https://cricai.openai.azure.com//openai/deployments/cricaidep/chat/completions?api-version=2023-07-01\" # Your Azure OpenAI resource endpoint\n",
    "os.environ[\"OPENAI_API_KEY\"]=\"905cac03e827471192d7d24351bf6374\" # Your Azure OpenAI resource key\n",
    "os.environ[\"OPENAI_CHAT_MODEL\"]=\"gpt-35-turbo-16k\" # Use name of deployment"
   ]
  },
  {
   "cell_type": "code",
   "execution_count": 105,
   "metadata": {},
   "outputs": [
    {
     "name": "stderr",
     "output_type": "stream",
     "text": [
      "C:\\Users\\User\\anaconda3\\envs\\CricLLM\\lib\\site-packages\\langchain_community\\chat_models\\azure_openai.py:174: UserWarning: As of openai>=1.0.0, if `deployment_name` (or alias `azure_deployment`) is specified then `openai_api_base` (or alias `base_url`) should not be. Instead use `deployment_name` (or alias `azure_deployment`) and `azure_endpoint`.\n",
      "  warnings.warn(\n",
      "C:\\Users\\User\\anaconda3\\envs\\CricLLM\\lib\\site-packages\\langchain_community\\chat_models\\azure_openai.py:182: UserWarning: As of openai>=1.0.0, if `openai_api_base` (or alias `base_url`) is specified it is expected to be of the form https://example-resource.azure.openai.com/openai/deployments/example-deployment. Updating https://cricai.openai.azure.com//openai/deployments/cricaidep/chat/completions?api-version=2023-07-01 to https://cricai.openai.azure.com//openai/deployments/cricaidep/chat/completions?api-version=2023-07-01.\n",
      "  warnings.warn(\n"
     ]
    }
   ],
   "source": [
    "from langchain.chat_models import AzureChatOpenAI\n",
    "\n",
    "llm = AzureChatOpenAI(model=os.getenv(\"OPENAI_CHAT_MODEL\"),\n",
    "                      deployment_name=os.getenv(\"OPENAI_CHAT_MODEL\"),\n",
    "                      temperature=0)"
   ]
  },
  {
   "cell_type": "code",
   "execution_count": 122,
   "metadata": {},
   "outputs": [],
   "source": [
    "from langchain.prompts.chat import ChatPromptTemplate\n",
    "\n",
    "final_prompt = ChatPromptTemplate.from_messages(\n",
    "    [\n",
    "        (\"system\", \n",
    "         \"\"\"\n",
    "          You are a helpful AI assistant expert in querying SQL Database to find answers to user's question about Matches\n",
    "          ID: A unique identifier for each cricket match, column type - int\n",
    "City: The city where the match took place, providing geographical context for the event. column type - varchar\n",
    "Date: The date of the match.\n",
    "Season: The season year of that match.\n",
    "MatchNumber: The match number within the season and also describes type of matches like Final,\n",
    "Qualifier 2,\n",
    "Eliminator,\n",
    "Qualifier 1,if match is of playoffs type.\n",
    "Team1: The name of the first team playing in the match. column type - varchar\n",
    "Team2: The name of the second team playing in the match. column type - varchar\n",
    "Venue: The name of the stadium where the match was held. column type - varchar\n",
    "TossWinner: The name of team winning the toss. column type - varchar\n",
    "TossDecision: The decision made by the toss-winning team which can be bat or field. column type - varchar\n",
    "SuperOver: Whether a Super Over was played to break a tie, Y if played , N if super over is not player. \n",
    "WinningTeam: The name of team that won the that match. column type - varchar\n",
    "WonBy: Describes how the match was won by Runs,Wickets, SuperOver or NoResult. column type - varchar\n",
    "Margin: The margin of victory, if corresponding WonBy cell is \"Runs\" then no. of runs would mentioned, if corresponding Wonby cell is \"Wickets\" then no. of wickets by which winning team won would be monetioned. column type - int\n",
    "Method: The method of winning either D/L or NA , if there is rain then D/L method is used , otherwise NA which describes normal match. column type - varchar\n",
    "Player_of_Match: The name of Man of the Match player. column type - varchar \n",
    "\n",
    "Team1Players: A list of players in Team 1, providing information about the team composition. Example - [\"Player1\",\"Player2\",\"Player3\",\"Player4\",\"Player5\",\"Player6\",\"Player7\",\"Player8\",\"Player9\",\"Player10\",\"Player11\"]\n",
    "\n",
    "Team2Players: A list of players in Team 2, similar example as Team1Players column\n",
    "\n",
    "Umpire1: The name of first umpire officiating the match. column type - varchar\n",
    "\n",
    "Umpire2: The name of second umpire officiating the match. column type - varchar\n",
    "\n",
    "         \"\"\"\n",
    "         ),\n",
    "        (\"user\", \"{question}\\n ai: \"),\n",
    "    ]\n",
    ")"
   ]
  },
  {
   "cell_type": "code",
   "execution_count": 123,
   "metadata": {},
   "outputs": [],
   "source": [
    "from langchain.agents import AgentType, create_sql_agent\n",
    "from langchain.sql_database import SQLDatabase\n",
    "from langchain.agents.agent_toolkits.sql.toolkit import SQLDatabaseToolkit\n",
    "\n",
    "db = SQLDatabase(db_engine)\n",
    "\n",
    "sql_toolkit = SQLDatabaseToolkit(db=db, llm=llm)\n",
    "sql_toolkit.get_tools()\n",
    "\n",
    "sqldb_agent = create_sql_agent(\n",
    "    llm=llm,\n",
    "    toolkit=sql_toolkit,\n",
    "    agent_type=AgentType.ZERO_SHOT_REACT_DESCRIPTION,\n",
    "    verbose=True\n",
    ")"
   ]
  },
  {
   "cell_type": "code",
   "execution_count": 127,
   "metadata": {
    "scrolled": true
   },
   "outputs": [
    {
     "name": "stdout",
     "output_type": "stream",
     "text": [
      "\n",
      "\n",
      "\u001b[1m> Entering new SQL Agent Executor chain...\u001b[0m\n",
      "\u001b[32;1m\u001b[1;3mWe need to query the database to find the number of matches won by Mumbai Indians with a margin of more than 5 wickets.\n",
      "Action: sql_db_query\n",
      "Action Input: SELECT COUNT(*) FROM Matches WHERE (Team1='Mumbai Indians' OR Team2='Mumbai Indians') AND WonBy='Wickets' AND Margin>5 AND WinningTeam='Mumbai Indians';\u001b[0m\u001b[36;1m\u001b[1;3m[(35,)]\u001b[0m\u001b[32;1m\u001b[1;3mThe query returned a result of [(35,)], which means that Mumbai Indians won 35 matches by a margin of more than 5 wickets.\n",
      "Final Answer: Mumbai Indians won 35 matches by more than 5 wicket margin.\u001b[0m\n",
      "\n",
      "\u001b[1m> Finished chain.\u001b[0m\n"
     ]
    },
    {
     "data": {
      "text/plain": [
       "'Mumbai Indians won 35 matches by more than 5 wicket margin.'"
      ]
     },
     "execution_count": 127,
     "metadata": {},
     "output_type": "execute_result"
    }
   ],
   "source": [
    "sqldb_agent.run(final_prompt.format(\n",
    "        question=\"How many matches did Mumbai Indians won by more than 5 wicket margin?\"\n",
    "  ))"
   ]
  }
 ],
 "metadata": {
  "kernelspec": {
   "display_name": "Python 3 (ipykernel)",
   "language": "python",
   "name": "python3"
  },
  "language_info": {
   "codemirror_mode": {
    "name": "ipython",
    "version": 3
   },
   "file_extension": ".py",
   "mimetype": "text/x-python",
   "name": "python",
   "nbconvert_exporter": "python",
   "pygments_lexer": "ipython3",
   "version": "3.9.18"
  },
  "vscode": {
   "interpreter": {
    "hash": "6553ac87f7c3ed4d80fc74ac15acfb00d26ac3c0e0df24d382c720019769f45c"
   }
  }
 },
 "nbformat": 4,
 "nbformat_minor": 4
}
